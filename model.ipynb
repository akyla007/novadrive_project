{
 "cells": [
  {
   "cell_type": "markdown",
   "metadata": {},
   "source": [
    "# Preprocessamento e criação do modelo"
   ]
  },
  {
   "cell_type": "code",
   "execution_count": 32,
   "metadata": {},
   "outputs": [],
   "source": [
    "import pandas as pd\n",
    "import numpy as np\n",
    "import matplotlib.pyplot as plt\n",
    "import seaborn as sns\n",
    "from sklearn.model_selection import train_test_split\n",
    "from sklearn.preprocessing import StandardScaler, LabelEncoder\n",
    "from sklearn.metrics import classification_report, confusion_matrix\n",
    "from sklearn.ensemble import RandomForestClassifier\n",
    "from sklearn.feature_selection import RFE\n",
    "import tensorflow as tf\n",
    "import joblib\n",
    "from fuzzywuzzy import process \n",
    "from datetime import datetime\n",
    "import random as python_random\n",
    "from utils import *\n"
   ]
  },
  {
   "cell_type": "code",
   "execution_count": 33,
   "metadata": {},
   "outputs": [],
   "source": [
    "\n",
    "seed = 41\n",
    "np.random.seed(seed)\n",
    "python_random.seed(seed)\n",
    "tf.random.set_seed(seed)"
   ]
  },
  {
   "cell_type": "code",
   "execution_count": 34,
   "metadata": {},
   "outputs": [],
   "source": [
    "df = pd.read_csv('./data/bronze/data.csv')"
   ]
  },
  {
   "cell_type": "code",
   "execution_count": 35,
   "metadata": {},
   "outputs": [],
   "source": [
    "# Conversão de tipos\n",
    "df['idade'] = df['idade'].astype(int)\n",
    "df['valorsolicitado'] = df['valorsolicitado'].astype(float)\n",
    "df['valortotalbem'] = df['valortotalbem'].astype(float)"
   ]
  },
  {
   "cell_type": "markdown",
   "metadata": {},
   "source": [
    "## Tratamento de Nulos"
   ]
  },
  {
   "cell_type": "code",
   "execution_count": 36,
   "metadata": {},
   "outputs": [],
   "source": [
    "fill_na(df)"
   ]
  },
  {
   "cell_type": "markdown",
   "metadata": {},
   "source": [
    "## Tratamento de erros de digitação"
   ]
  },
  {
   "cell_type": "code",
   "execution_count": 37,
   "metadata": {},
   "outputs": [],
   "source": [
    "profissoes_validas = ['Advogado','Arquiteto','Cientista de Dados',\n",
    "                      'Contador','Dentista','Empresário','Engenheiro',\n",
    "                      'Médico','Programador']\n",
    "fix_categoric_errors(df,'profissao', profissoes_validas)"
   ]
  },
  {
   "cell_type": "markdown",
   "metadata": {},
   "source": [
    "## Tratamento de Outliers"
   ]
  },
  {
   "cell_type": "code",
   "execution_count": 38,
   "metadata": {},
   "outputs": [],
   "source": [
    "df = fix_outliers(df, 'idade', 18, 100)\n",
    "df = fix_outliers(df, 'idade', 0, 110)"
   ]
  },
  {
   "cell_type": "markdown",
   "metadata": {},
   "source": [
    "## Engenharia de features"
   ]
  },
  {
   "cell_type": "code",
   "execution_count": 39,
   "metadata": {},
   "outputs": [],
   "source": [
    "df['proporcaosolicitadototal'] = (df['valorsolicitado'] / df['valortotalbem']).astype(float)"
   ]
  },
  {
   "cell_type": "markdown",
   "metadata": {},
   "source": [
    "## Divisão de dados para o modelo"
   ]
  },
  {
   "cell_type": "code",
   "execution_count": 40,
   "metadata": {},
   "outputs": [
    {
     "data": {
      "text/plain": [
       "['./models/selector.joblib']"
      ]
     },
     "execution_count": 40,
     "metadata": {},
     "output_type": "execute_result"
    }
   ],
   "source": [
    "X = df.drop('classe', axis=1)\n",
    "y = df['classe']\n",
    "\n",
    "X_train, X_test, y_train, y_test = train_test_split(X, y, test_size=0.3, random_state=seed)\n",
    "\n",
    "# Normalização\n",
    "\n",
    "X_test = save_scalers(X_test, ['tempoprofissao','renda','idade','dependentes','valorsolicitado',\n",
    "                               'valortotalbem','proporcaosolicitadototal'])\n",
    "X_train = save_scalers(X_train, ['tempoprofissao','renda','idade','dependentes','valorsolicitado',\n",
    "                               'valortotalbem','proporcaosolicitadototal'])\n",
    "\n",
    "# Label Encoding\n",
    "mapeamento = {'ruim':0, 'bom':1}\n",
    "y_train = np.array([mapeamento[classe] for classe in y_train])\n",
    "y_test = np.array([mapeamento[classe] for classe in y_test])\n",
    "\n",
    "X_train = save_encoders(X_train, ['profissao','tiporesidencia','escolaridade',\n",
    "                                  'score','estadocivil','produto'])\n",
    "X_test = save_encoders(X_train, ['profissao','tiporesidencia','escolaridade',\n",
    "                                  'score','estadocivil','produto'])\n",
    "\n",
    "# Feature Selection\n",
    "rf = RandomForestClassifier()\n",
    "selector = RFE(rf, n_features_to_select=10, step=1)\n",
    "selector.fit(X_train, y_train)\n",
    "\n",
    "# Transformação dos dados\n",
    "\n",
    "X_train = selector.transform(X_train)\n",
    "X_test = selector.transform(X_test)\n",
    "\n",
    "# Salvar seletor\n",
    "joblib.dump(selector, './models/selector.joblib')\n"
   ]
  },
  {
   "cell_type": "code",
   "execution_count": null,
   "metadata": {},
   "outputs": [],
   "source": []
  }
 ],
 "metadata": {
  "kernelspec": {
   "display_name": ".venv",
   "language": "python",
   "name": "python3"
  },
  "language_info": {
   "codemirror_mode": {
    "name": "ipython",
    "version": 3
   },
   "file_extension": ".py",
   "mimetype": "text/x-python",
   "name": "python",
   "nbconvert_exporter": "python",
   "pygments_lexer": "ipython3",
   "version": "3.12.1"
  }
 },
 "nbformat": 4,
 "nbformat_minor": 2
}
